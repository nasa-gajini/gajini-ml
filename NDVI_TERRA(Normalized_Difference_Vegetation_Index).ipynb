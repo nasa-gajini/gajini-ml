{
 "cells": [
  {
   "metadata": {},
   "cell_type": "markdown",
   "source": [
    "# MODIS/Terra Vegetation Indices 16-Day L3 Global 1km SIN Grid V061\n",
    "* DOI 10.5067/MODIS/MOD13A2.061\n",
    "* https://lpdaac.usgs.gov/products/mod13a2v061/"
   ],
   "id": "c468dd7426e08241"
  },
  {
   "metadata": {
    "ExecuteTime": {
     "end_time": "2024-10-05T20:05:06.505748Z",
     "start_time": "2024-10-05T20:05:06.499866Z"
    }
   },
   "cell_type": "code",
   "source": "hdf_file_path = \"./data/NDVI_TERRA/MOD13A2.A2024257.h20v05.061.2024275121224.hdf\"",
   "id": "71eff92bc9b13725",
   "outputs": [],
   "execution_count": 1
  },
  {
   "metadata": {
    "ExecuteTime": {
     "end_time": "2024-10-05T20:05:12.661338Z",
     "start_time": "2024-10-05T20:05:12.514824Z"
    }
   },
   "cell_type": "code",
   "source": [
    "from pyhdf.SD import SD, SDC\n",
    "\n",
    "# Open the HDF4 file\n",
    "hdf = SD(hdf_file_path, SDC.READ)\n",
    "\n",
    "# List available datasets in the HDF file\n",
    "datasets_dict = hdf.datasets()\n",
    "\n",
    "# Print dataset names\n",
    "for dataset_name in datasets_dict.keys():\n",
    "    print(dataset_name)"
   ],
   "id": "3a360fe19fbbbc25",
   "outputs": [
    {
     "name": "stdout",
     "output_type": "stream",
     "text": [
      "1 km 16 days NDVI\n",
      "1 km 16 days EVI\n",
      "1 km 16 days VI Quality\n",
      "1 km 16 days red reflectance\n",
      "1 km 16 days NIR reflectance\n",
      "1 km 16 days blue reflectance\n",
      "1 km 16 days MIR reflectance\n",
      "1 km 16 days view zenith angle\n",
      "1 km 16 days sun zenith angle\n",
      "1 km 16 days relative azimuth angle\n",
      "1 km 16 days composite day of the year\n",
      "1 km 16 days pixel reliability\n"
     ]
    }
   ],
   "execution_count": 2
  },
  {
   "metadata": {
    "ExecuteTime": {
     "end_time": "2024-10-05T20:05:21.227204Z",
     "start_time": "2024-10-05T20:05:21.218479Z"
    }
   },
   "cell_type": "code",
   "source": [
    "# List available SDS datasets.\n",
    "hdf.datasets()"
   ],
   "id": "ca2cba61f446275",
   "outputs": [
    {
     "data": {
      "text/plain": [
       "{'1 km 16 days NDVI': (('YDim:MODIS_Grid_16DAY_1km_VI',\n",
       "   'XDim:MODIS_Grid_16DAY_1km_VI'),\n",
       "  (1200, 1200),\n",
       "  22,\n",
       "  0),\n",
       " '1 km 16 days EVI': (('YDim:MODIS_Grid_16DAY_1km_VI',\n",
       "   'XDim:MODIS_Grid_16DAY_1km_VI'),\n",
       "  (1200, 1200),\n",
       "  22,\n",
       "  1),\n",
       " '1 km 16 days VI Quality': (('YDim:MODIS_Grid_16DAY_1km_VI',\n",
       "   'XDim:MODIS_Grid_16DAY_1km_VI'),\n",
       "  (1200, 1200),\n",
       "  23,\n",
       "  2),\n",
       " '1 km 16 days red reflectance': (('YDim:MODIS_Grid_16DAY_1km_VI',\n",
       "   'XDim:MODIS_Grid_16DAY_1km_VI'),\n",
       "  (1200, 1200),\n",
       "  22,\n",
       "  3),\n",
       " '1 km 16 days NIR reflectance': (('YDim:MODIS_Grid_16DAY_1km_VI',\n",
       "   'XDim:MODIS_Grid_16DAY_1km_VI'),\n",
       "  (1200, 1200),\n",
       "  22,\n",
       "  4),\n",
       " '1 km 16 days blue reflectance': (('YDim:MODIS_Grid_16DAY_1km_VI',\n",
       "   'XDim:MODIS_Grid_16DAY_1km_VI'),\n",
       "  (1200, 1200),\n",
       "  22,\n",
       "  5),\n",
       " '1 km 16 days MIR reflectance': (('YDim:MODIS_Grid_16DAY_1km_VI',\n",
       "   'XDim:MODIS_Grid_16DAY_1km_VI'),\n",
       "  (1200, 1200),\n",
       "  22,\n",
       "  6),\n",
       " '1 km 16 days view zenith angle': (('YDim:MODIS_Grid_16DAY_1km_VI',\n",
       "   'XDim:MODIS_Grid_16DAY_1km_VI'),\n",
       "  (1200, 1200),\n",
       "  22,\n",
       "  7),\n",
       " '1 km 16 days sun zenith angle': (('YDim:MODIS_Grid_16DAY_1km_VI',\n",
       "   'XDim:MODIS_Grid_16DAY_1km_VI'),\n",
       "  (1200, 1200),\n",
       "  22,\n",
       "  8),\n",
       " '1 km 16 days relative azimuth angle': (('YDim:MODIS_Grid_16DAY_1km_VI',\n",
       "   'XDim:MODIS_Grid_16DAY_1km_VI'),\n",
       "  (1200, 1200),\n",
       "  22,\n",
       "  9),\n",
       " '1 km 16 days composite day of the year': (('YDim:MODIS_Grid_16DAY_1km_VI',\n",
       "   'XDim:MODIS_Grid_16DAY_1km_VI'),\n",
       "  (1200, 1200),\n",
       "  22,\n",
       "  10),\n",
       " '1 km 16 days pixel reliability': (('YDim:MODIS_Grid_16DAY_1km_VI',\n",
       "   'XDim:MODIS_Grid_16DAY_1km_VI'),\n",
       "  (1200, 1200),\n",
       "  20,\n",
       "  11)}"
      ]
     },
     "execution_count": 3,
     "metadata": {},
     "output_type": "execute_result"
    }
   ],
   "execution_count": 3
  },
  {
   "metadata": {
    "ExecuteTime": {
     "end_time": "2024-10-05T20:05:37.647872Z",
     "start_time": "2024-10-05T20:05:37.625110Z"
    }
   },
   "cell_type": "code",
   "source": [
    "# 'Optical_Depth_047' 데이터셋 선택\n",
    "ndvi_terra = hdf.select('1 km 16 days NDVI')\n",
    "ndvi_terra\n",
    "\n",
    "# 데이터셋의 실제 값을 읽어오기\n",
    "ndvi_terra_data = ndvi_terra[:]\n",
    "ndvi_terra_data"
   ],
   "id": "2e86796bf84e435f",
   "outputs": [
    {
     "data": {
      "text/plain": [
       "array([[-3000, -3000, -3000, ...,  2554,  2581,  2940],\n",
       "       [-3000, -3000, -3000, ...,  3214,  2877,  2508],\n",
       "       [-3000, -3000, -3000, ...,  3454,  3235,  2957],\n",
       "       ...,\n",
       "       [ 1099,  1072,  1023, ...,  1256,  1216,  1194],\n",
       "       [ 1086,  1075,  1054, ...,  1076,  1061,  1046],\n",
       "       [ 1095,  1087,  1063, ...,   964,  1078,  1059]], dtype=int16)"
      ]
     },
     "execution_count": 4,
     "metadata": {},
     "output_type": "execute_result"
    }
   ],
   "execution_count": 4
  },
  {
   "metadata": {},
   "cell_type": "code",
   "outputs": [],
   "execution_count": null,
   "source": "",
   "id": "a11d9d5d7875d3de"
  }
 ],
 "metadata": {
  "kernelspec": {
   "display_name": "nasa(venv)",
   "language": "python",
   "name": "nasa_venv"
  },
  "language_info": {
   "codemirror_mode": {
    "name": "ipython",
    "version": 2
   },
   "file_extension": ".py",
   "mimetype": "text/x-python",
   "name": "python",
   "nbconvert_exporter": "python",
   "pygments_lexer": "ipython2",
   "version": "2.7.6"
  }
 },
 "nbformat": 4,
 "nbformat_minor": 5
}
